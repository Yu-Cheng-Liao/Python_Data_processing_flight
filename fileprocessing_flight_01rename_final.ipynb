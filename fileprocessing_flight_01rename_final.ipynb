{
 "cells": [
  {
   "cell_type": "code",
   "execution_count": 1,
   "id": "d21a1433",
   "metadata": {},
   "outputs": [],
   "source": [
    "import pandas as pd\n",
    "import os\n",
    "from os import walk\n",
    "from os.path import join\n",
    "\n",
    "# 指定存放檔案目錄路徑\n",
    "dir_path = 'C:/Users/Cheng/topic/final_data'\n",
    "\n",
    "# add list save all file path\n",
    "all_file_path = []\n",
    "\n",
    "# 遞迴列出所有檔案的絕對路徑\n",
    "for root, dirs, files in walk(dir_path):\n",
    "    for f in files:\n",
    "        all_file_path.append(join(root, f))\n"
   ]
  },
  {
   "cell_type": "code",
   "execution_count": 2,
   "id": "6d966198",
   "metadata": {},
   "outputs": [],
   "source": [
    "# 依序讀取所有csv文件\n",
    "for file_name in all_file_path:\n",
    "\n",
    "    # 抓檔名\n",
    "    #指定哪幾列\n",
    "    specific_rows = [1,2,5]\n",
    "    df = pd.read_csv(f'{file_name}', skiprows = lambda x: x not in specific_rows,sep=',',header=None)\n",
    "    df\n",
    "\n",
    "    # 拿來放檔名的list\n",
    "    fn=[]\n",
    "    # 抓出年分\n",
    "    yr = df.iloc[2, 0].split(':')[-1][-2:]\n",
    "    fn.append(yr)\n",
    "    # 抓出機場代碼\n",
    "    airport = df.iloc[0,1].split(' ')[-1].strip('()')\n",
    "    fn.append(airport)\n",
    "    # 抓出航空公司代碼\n",
    "    airline = df.iloc[1,0].split(' ')[-1].strip('()')\n",
    "    fn.append(airline)\n",
    "    # 把年分、機場代碼、航空公司代碼組合\n",
    "    filename='_'.join(fn)\n",
    "    filename\n",
    "\n",
    "    # 讀檔案，只讀我需要的部分\n",
    "    # 跳掉前7列不要讀\n",
    "    df1 = pd.read_csv(f'{file_name}', skiprows = [i for i in range (0,7)])\n",
    "    \n",
    "    # 刪掉最後一列，並且要直接刪原檔，不是view 是copy\n",
    "    df1.drop(df1.tail(1).index,inplace=True)\n",
    "    \n",
    "    # 新增起飛機場欄位，在目的地機場的後面\n",
    "    col_name = df1.columns.tolist()\n",
    "    col_name.insert(col_name.index('Destination Airport')+1, 'Departure airport')\n",
    "    df1 = df1.reindex(columns=col_name)\n",
    "    df1['Departure airport'] = airport\n",
    "\n",
    "    '''另存新檔'''\n",
    "    # 建立目錄\n",
    "    folderPath = 'Data_preprocessings'\n",
    "    if not os.path.exists(folderPath):\n",
    "        os.makedirs(folderPath)\n",
    "    #寫出檔案 不要標頭 不要index\n",
    "    df1.to_csv(f'{folderPath}/flight_info_{filename}.csv',index=None)"
   ]
  }
 ],
 "metadata": {
  "kernelspec": {
   "display_name": "Python 3 (ipykernel)",
   "language": "python",
   "name": "python3"
  },
  "language_info": {
   "codemirror_mode": {
    "name": "ipython",
    "version": 3
   },
   "file_extension": ".py",
   "mimetype": "text/x-python",
   "name": "python",
   "nbconvert_exporter": "python",
   "pygments_lexer": "ipython3",
   "version": "3.9.13"
  }
 },
 "nbformat": 4,
 "nbformat_minor": 5
}
